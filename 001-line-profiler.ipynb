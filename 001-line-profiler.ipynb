{
 "metadata": {
  "name": "",
  "signature": "sha256:384c9a94072d7d1f5d357d96aa0ad6ce584b6f9d3c2f3b8e8406f33a1606947b"
 },
 "nbformat": 3,
 "nbformat_minor": 0,
 "worksheets": [
  {
   "cells": [
    {
     "cell_type": "markdown",
     "metadata": {},
     "source": [
      "## Line profiling\n",
      "\n",
      "This allows you to time the execution of different parts of your code. \n",
      "\n",
      "We will look at a very simple module, stored in the file `fib.py` and profile it with the `%lpruf` magic"
     ]
    },
    {
     "cell_type": "markdown",
     "metadata": {},
     "source": [
      "First, load the ipython extension, to make the magic available:"
     ]
    },
    {
     "cell_type": "code",
     "collapsed": false,
     "input": [
      "%load_ext line_profiler"
     ],
     "language": "python",
     "metadata": {},
     "outputs": [],
     "prompt_number": 1
    },
    {
     "cell_type": "code",
     "collapsed": false,
     "input": [
      "import fib"
     ],
     "language": "python",
     "metadata": {},
     "outputs": [],
     "prompt_number": 2
    },
    {
     "cell_type": "code",
     "collapsed": false,
     "input": [
      "%lprun -f fib.fib fib.fib(10)"
     ],
     "language": "python",
     "metadata": {},
     "outputs": [],
     "prompt_number": 3
    },
    {
     "cell_type": "markdown",
     "metadata": {},
     "source": [
      "A pager should open below specifying how many times each line was executed, how long it took to run and what proportion of the time was spent on this line. This tells you what parts of the code are worth investing additional time in refactoring"
     ]
    }
   ],
   "metadata": {}
  }
 ]
}