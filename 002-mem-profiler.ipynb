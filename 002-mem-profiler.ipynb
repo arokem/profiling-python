{
 "metadata": {
  "name": "",
  "signature": "sha256:a7ead4097f551b4788d0073e39be6991815f187279a7dc693067c68943641573"
 },
 "nbformat": 3,
 "nbformat_minor": 0,
 "worksheets": [
  {
   "cells": [
    {
     "cell_type": "markdown",
     "metadata": {},
     "source": [
      "## Memory profiling\n",
      "\n",
      "There are two main ways to profile python code for memory, using [`memory_profiler`](https://pypi.python.org/pypi/memory_profiler): \n",
      "\n",
      "- Using the `ipython` `%memit` magic \n",
      "\n",
      "- Using API calls to `memory_profiler`\n",
      "\n",
      "In the following cells, I will demonstrate both of these, for a simple python module called `fib.py`, which contains an implementation of the. \n",
      "\n",
      "For a more realistic example, see [this notebook](http://nbviewer.ipython.org/gist/arokem/f91d436af3f0d3084af4)"
     ]
    },
    {
     "cell_type": "code",
     "collapsed": false,
     "input": [
      "%load_ext memory_profiler"
     ],
     "language": "python",
     "metadata": {},
     "outputs": [],
     "prompt_number": 1
    },
    {
     "cell_type": "code",
     "collapsed": false,
     "input": [
      "import fib"
     ],
     "language": "python",
     "metadata": {},
     "outputs": [],
     "prompt_number": 2
    },
    {
     "cell_type": "code",
     "collapsed": false,
     "input": [
      "# Use the magic:\n",
      "%memit fib.fib(10)"
     ],
     "language": "python",
     "metadata": {},
     "outputs": [
      {
       "output_type": "stream",
       "stream": "stdout",
       "text": [
        "peak memory: 27.54 MiB, increment: 0.07 MiB\n"
       ]
      }
     ],
     "prompt_number": 3
    },
    {
     "cell_type": "code",
     "collapsed": false,
     "input": [
      "import memory_profiler"
     ],
     "language": "python",
     "metadata": {},
     "outputs": [],
     "prompt_number": 4
    },
    {
     "cell_type": "code",
     "collapsed": false,
     "input": [
      "# Use the API:\n",
      "memory_profiler.memory_usage((fib.fib, (10,)))"
     ],
     "language": "python",
     "metadata": {},
     "outputs": [
      {
       "metadata": {},
       "output_type": "pyout",
       "prompt_number": 5,
       "text": [
        "[27.578125, 27.578125, 27.578125]"
       ]
      }
     ],
     "prompt_number": 5
    },
    {
     "cell_type": "markdown",
     "metadata": {},
     "source": [
      "Take a look at the documentation of `memory_usage` for more detailed information about the inputs and outputs of that function"
     ]
    }
   ],
   "metadata": {}
  }
 ]
}